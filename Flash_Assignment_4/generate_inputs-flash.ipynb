{
 "cells": [
  {
   "cell_type": "code",
   "execution_count": 28,
   "id": "8df1360c",
   "metadata": {},
   "outputs": [],
   "source": [
    "# importing necessary modules\n",
    "import numpy as np\n",
    "import random"
   ]
  },
  {
   "cell_type": "code",
   "execution_count": 29,
   "id": "1721c9d1",
   "metadata": {},
   "outputs": [
    {
     "data": {
      "text/plain": [
       "{'d', 'e', 'f', 'g', 'h', 'i', 'j', 'k', 'l', 'm', 'n', 'o', 'p', 's'}"
      ]
     },
     "execution_count": 29,
     "metadata": {},
     "output_type": "execute_result"
    }
   ],
   "source": [
    "# finding unique characters in given ciphertext\n",
    "\n",
    "s='ipphsdlmgffnophhjdkggfokoiehddfj'\n",
    "p=set(s)\n",
    "p"
   ]
  },
  {
   "cell_type": "code",
   "execution_count": 30,
   "id": "9b88e83e",
   "metadata": {},
   "outputs": [],
   "source": [
    "# Mapping unique characters from d to s with 4 digit binary\n",
    "dict = {\n",
    " '0000': 'd',\n",
    " '0001': 'e',\n",
    " '0010': 'f',\n",
    " '0011': 'g',\n",
    " '0100': 'h',\n",
    " '0101': 'i',\n",
    " '0110': 'j',\n",
    " '0111': 'k',\n",
    " '1000': 'l',\n",
    " '1001': 'm',\n",
    " '1010': 'n',\n",
    " '1011': 'o',\n",
    " '1100': 'p',\n",
    " '1101': 'q',\n",
    " '1110': 'r',\n",
    " '1111': 's'\n",
    "    \n",
    "}\n",
    "rev_dict=mapping = {\n",
    "           'd' : '0000',\n",
    "           'e' : '0001',\n",
    "           'f' : '0010',\n",
    "           'g' : '0011',\n",
    "           'h' : '0100',\n",
    "           'i' : '0101',\n",
    "           'j' : '0110',\n",
    "           'k' : '0111',\n",
    "           'l' : '1000',\n",
    "           'm' : '1001',\n",
    "           'n' : '1010',\n",
    "           'o' : '1011',\n",
    "           'p' : '1100',\n",
    "            'q': '1101',\n",
    "           'r' : '1110',\n",
    "            's': '1111'\n",
    "               }"
   ]
  },
  {
   "cell_type": "markdown",
   "id": "37300e97",
   "metadata": {},
   "source": [
    "Converting ciphertext to decimal numbers"
   ]
  },
  {
   "cell_type": "code",
   "execution_count": 31,
   "id": "70f2b2f6",
   "metadata": {},
   "outputs": [
    {
     "name": "stdout",
     "output_type": "stream",
     "text": [
      "01011100110001001111000010001001001100100010101010111100010001000110000001110011001100101011011110110101000101000000000000100110\n"
     ]
    }
   ],
   "source": [
    "temp1=\"ipphsdlmgffnophhjdkggfokoiehddfj\"\n",
    "te=\"\"\n",
    "for item in temp1:\n",
    "    te+=str(rev_dict[item])\n",
    "print(te)"
   ]
  },
  {
   "cell_type": "code",
   "execution_count": 32,
   "id": "9752300a",
   "metadata": {},
   "outputs": [
    {
     "name": "stdout",
     "output_type": "stream",
     "text": [
      "['01011100', '11000100', '11110000', '10001001', '00110010', '00101010', '10111100', '01000100', '01100000', '01110011', '00110010', '10110111', '10110101', '00010100', '00000000', '00100110']\n"
     ]
    }
   ],
   "source": [
    "ans=[]\n",
    "for i in range(16):\n",
    "    ans.append(str(te[i*8:i*8+8]))\n",
    "print(ans)"
   ]
  },
  {
   "cell_type": "code",
   "execution_count": 33,
   "id": "44d7792f",
   "metadata": {},
   "outputs": [],
   "source": [
    "# Binary to decimal conversion \n",
    "def bin2dec(binary):  \n",
    "        \n",
    "    binary1 = binary  \n",
    "    decimal, i, n = 0, 0, 0\n",
    "    while(binary != 0):  \n",
    "        dec = binary % 10\n",
    "        decimal = decimal + dec * pow(2, i)  \n",
    "        binary = binary//10\n",
    "        i += 1\n",
    "    return decimal "
   ]
  },
  {
   "cell_type": "code",
   "execution_count": 34,
   "id": "36099267",
   "metadata": {},
   "outputs": [
    {
     "name": "stdout",
     "output_type": "stream",
     "text": [
      "[92, 196, 240, 137, 50, 42, 188, 68, 96, 115, 50, 183, 181, 20, 0, 38]\n"
     ]
    }
   ],
   "source": [
    "res=[]\n",
    "for item in ans:\n",
    "    res.append(bin2dec(int(item)))\n",
    "print(res)"
   ]
  },
  {
   "cell_type": "code",
   "execution_count": 35,
   "id": "32a1402f",
   "metadata": {},
   "outputs": [],
   "source": [
    "def dec2bin(num):  \n",
    "    res = bin(num).replace(\"0b\", \"\") \n",
    "    if(len(res)%4 != 0): \n",
    "        div = len(res) / 4\n",
    "        div = int(div) \n",
    "        counter =(4 * (div + 1)) - len(res)  \n",
    "        for i in range(0, counter): \n",
    "            res = '0' + res \n",
    "    return res"
   ]
  },
  {
   "cell_type": "code",
   "execution_count": 36,
   "id": "4e1c484d",
   "metadata": {},
   "outputs": [
    {
     "name": "stdout",
     "output_type": "stream",
     "text": [
      "['00111101', '00111011', '0111', '00101001', '00110001', '00010111', '00110110']\n"
     ]
    }
   ],
   "source": [
    "l=[]\n",
    "temp1=[61,59,7,41,49,23,54]\n",
    "for item in temp1:\n",
    "    l.append(dec2bin(item))\n",
    "print(l)"
   ]
  },
  {
   "cell_type": "markdown",
   "id": "63d1a48c",
   "metadata": {},
   "source": [
    "Generating plaintext for a fixed XOR value"
   ]
  },
  {
   "cell_type": "code",
   "execution_count": 37,
   "id": "556c08c8",
   "metadata": {},
   "outputs": [],
   "source": [
    "# binary_plaintexts"
   ]
  },
  {
   "cell_type": "code",
   "execution_count": 38,
   "id": "3099c4d4",
   "metadata": {},
   "outputs": [],
   "source": [
    "def generate_plaintext(hex_val,filename):\n",
    "    XOR_value = list((bin(hex_val))[2:].zfill(64))\n",
    "    XOR_value = [int(x) for x in XOR_value]\n",
    "    binary_plaintexts = []\n",
    "    choice_list=['d', 'e', 'f', 'g', 'h', 'i', 'j', 'k', 'l', 'm', 'n', 'o', 'p', 'q', 'r', 's']\n",
    "\n",
    "    for i in range(1000):\n",
    "        temp=[]\n",
    "        for j in range(16):\n",
    "            x= random.choice(choice_list)\n",
    "            temp.append(x)\n",
    "        inp1=''\n",
    "        for y in temp:\n",
    "            inp1+=rev_dict[y]\n",
    "        inp1 = [int(inp1[j]) for j in range(len(inp1))]\n",
    "\n",
    "        binary_plaintexts.append(inp1)\n",
    "        binary_plaintexts.append(list(np.bitwise_xor(inp1,XOR_value)))\n",
    "        \n",
    "    inputs = []\n",
    "\n",
    "    for i in range(len(binary_plaintexts)):\n",
    "        input=\"\"\n",
    "        for j in range(0,64,4):\n",
    "            temp1 = binary_plaintexts[i][j:j+4]\n",
    "            s1 = [str(x) for x in temp1]\n",
    "            str1 = \"\"\n",
    "            temp2 = str1.join(s1)\n",
    "            input+=dict[temp2]\n",
    "        inputs+=[input]\n",
    "        \n",
    "    with open(filename,\"w\") as f1:\n",
    "        for plaintext in inputs:\n",
    "            f1.write(plaintext+\"\\n\")\n",
    "            "
   ]
  },
  {
   "cell_type": "code",
   "execution_count": 39,
   "id": "2195e761",
   "metadata": {},
   "outputs": [],
   "source": [
    "# XOR value between pairs of plaintexts is 000080100000400\n",
    "plaintext1=generate_plaintext(0x0000801000004000,\"plaintexts1.txt\")"
   ]
  },
  {
   "cell_type": "code",
   "execution_count": 40,
   "id": "2c32ab04",
   "metadata": {},
   "outputs": [],
   "source": [
    "# XOR value between pairs of plaintexts is 0000 0000 0000 0000 0000 1000 0000 0001 0000 0000 0001 0000 0000 0000 0000 0000\n",
    "plaintext2=generate_plaintext(0x0000080100100000,\"plaintexts2.txt\")"
   ]
  },
  {
   "cell_type": "code",
   "execution_count": null,
   "id": "98de8468",
   "metadata": {},
   "outputs": [],
   "source": []
  }
 ],
 "metadata": {
  "kernelspec": {
   "display_name": "Python 3 (ipykernel)",
   "language": "python",
   "name": "python3"
  },
  "language_info": {
   "codemirror_mode": {
    "name": "ipython",
    "version": 3
   },
   "file_extension": ".py",
   "mimetype": "text/x-python",
   "name": "python",
   "nbconvert_exporter": "python",
   "pygments_lexer": "ipython3",
   "version": "3.8.10"
  }
 },
 "nbformat": 4,
 "nbformat_minor": 5
}
