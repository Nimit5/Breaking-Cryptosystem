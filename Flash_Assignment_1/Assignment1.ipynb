{
 "cells": [
  {
   "cell_type": "code",
   "execution_count": 1,
   "id": "11e9db0e",
   "metadata": {},
   "outputs": [],
   "source": [
    "ciphertext = \"omkf pi hdn cmgef icphsck .H krg vphqkc c,fic mco kqgf ioqag eo qfcmckf oq ficpihdn cm .Kg dcgeficu hfcm pi hdn cmklo uuncdgmcoqfc mc kfoq afihqfiokgq c!Fi cpgy cvkc yeg mfio kdck kha cokh kodjuck vn k fofvfo gqpojicmoqli opiyoa of kihsc nccqki oefc ynr2 juhpck. Fi c jhkklgm yok oMxr9V1x ya flofigvffic xvgfck. Fio kokfice\""
   ]
  },
  {
   "cell_type": "code",
   "execution_count": 2,
   "id": "d4479d81",
   "metadata": {},
   "outputs": [],
   "source": [
    "ciphertext_without_case = ciphertext.lower()"
   ]
  },
  {
   "cell_type": "code",
   "execution_count": 3,
   "id": "d5ffb607",
   "metadata": {},
   "outputs": [
    {
     "data": {
      "text/plain": [
       "'omkf pi hdn cmgef icphsck .h krg vphqkc c,fic mco kqgf ioqag eo qfcmckf oq ficpihdn cm .kg dcgeficu hfcm pi hdn cmklo uuncdgmcoqfc mc kfoq afihqfiokgq c!fi cpgy cvkc yeg mfio kdck kha cokh kodjuck vn k fofvfo gqpojicmoqli opiyoa of kihsc nccqki oefc ynr2 juhpck. fi c jhkklgm yok omxr9v1x ya flofigvffic xvgfck. fio kokfice'"
      ]
     },
     "execution_count": 3,
     "metadata": {},
     "output_type": "execute_result"
    }
   ],
   "source": [
    "ciphertext_without_case"
   ]
  },
  {
   "cell_type": "code",
   "execution_count": 4,
   "id": "33f600fc",
   "metadata": {},
   "outputs": [
    {
     "name": "stdout",
     "output_type": "stream",
     "text": [
      "Frequency distribution in the given cipher text: \n",
      "c = 11.145510835913312\n",
      "f = 8.6687306501548\n",
      "k = 8.359133126934983\n",
      "o = 7.739938080495357\n",
      "i = 6.811145510835913\n",
      "g = 4.3343653250774\n",
      "m = 4.024767801857585\n",
      "h = 4.024767801857585\n",
      "q = 3.7151702786377707\n",
      "p = 2.786377708978328\n",
      "d = 2.1671826625387\n",
      "n = 2.1671826625387\n",
      "v = 2.1671826625387\n",
      "e = 1.8575851393188854\n",
      "y = 1.8575851393188854\n",
      "a = 1.5479876160990713\n",
      "u = 1.5479876160990713\n",
      "l = 1.238390092879257\n",
      "j = 1.238390092879257\n",
      "r = 0.9287925696594427\n",
      "x = 0.9287925696594427\n",
      "s = 0.6191950464396285\n"
     ]
    }
   ],
   "source": [
    "frequency={}\n",
    "for item in ciphertext_without_case:\n",
    "    if item.isalpha():\n",
    "        try:\n",
    "            frequency[item]+=1\n",
    "        except:\n",
    "            frequency[item]=1\n",
    "\n",
    "print(\"Frequency distribution in the given cipher text: \")\n",
    "for k,val in sorted(frequency.items(), key = lambda x: x[1], reverse = True):\n",
    "    print(k ,val/len(ciphertext_without_case)*100,sep=\" = \")"
   ]
  },
  {
   "cell_type": "code",
   "execution_count": 5,
   "id": "f6c8417d",
   "metadata": {},
   "outputs": [],
   "source": [
    "mapping_for_lower_case = ['g','-','e','m','f','t','o','a','h','p','s','w','r','b','i','c','n','y','v','-','l','u','-','q','d','-']"
   ]
  },
  {
   "cell_type": "code",
   "execution_count": 6,
   "id": "f2e44f80",
   "metadata": {},
   "outputs": [],
   "source": [
    "mapping_for_upper_case = ['G','-','E','M','F','T','O','A','H','P','S','W','R','B','I','C','N','Y','V','-','L','U','-','Q','D','-']"
   ]
  },
  {
   "cell_type": "code",
   "execution_count": 7,
   "id": "546e58ba",
   "metadata": {},
   "outputs": [],
   "source": [
    "ans = \"\"\n",
    "for item in ciphertext:\n",
    "    if (ord(item)>=ord('a') and ord(item)<=ord('z')):\n",
    "        item = mapping_for_lower_case[ord(item)-ord('a')]\n",
    "    if (ord(item)>=ord('A') and ord(item)<=ord('Z')):\n",
    "        item = mapping_for_upper_case[ord(item)-ord('A')]\n",
    "    ans += item;"
   ]
  },
  {
   "cell_type": "code",
   "execution_count": 8,
   "id": "f5c3728e",
   "metadata": {},
   "outputs": [
    {
     "data": {
      "text/plain": [
       "'irst ch amb eroft hecaves .A syo ucanse e,the rei snot hingo fi nterest in thechamb er .So meofthel ater ch amb erswi llbemoreinte re stin gthanthison e!Th ecod euse dfo rthi smes sag eisa simples ub s tituti oncipherinwh ichdig it shave beensh ifte dby2 places. Th e passwor dis iRqy9U1q dg twithoutthe quotes. Thi sisthef'"
      ]
     },
     "execution_count": 8,
     "metadata": {},
     "output_type": "execute_result"
    }
   ],
   "source": [
    "ans"
   ]
  },
  {
   "cell_type": "code",
   "execution_count": 9,
   "id": "3db24b79",
   "metadata": {},
   "outputs": [],
   "source": [
    "d=12"
   ]
  },
  {
   "cell_type": "code",
   "execution_count": 10,
   "id": "723fa63a",
   "metadata": {},
   "outputs": [],
   "source": [
    "temp1 = ans[0 : len(ans)-d] \n",
    "temp2 = ans[len(ans)-d : ] "
   ]
  },
  {
   "cell_type": "code",
   "execution_count": 11,
   "id": "ba13c707",
   "metadata": {},
   "outputs": [
    {
     "data": {
      "text/plain": [
       "' Thi sisthefirst ch amb eroft hecaves .A syo ucanse e,the rei snot hingo fi nterest in thechamb er .So meofthel ater ch amb erswi llbemoreinte re stin gthanthison e!Th ecod euse dfo rthi smes sag eisa simples ub s tituti oncipherinwh ichdig it shave beensh ifte dby2 places. Th e passwor dis iRqy9U1q dg twithoutthe quotes.'"
      ]
     },
     "execution_count": 11,
     "metadata": {},
     "output_type": "execute_result"
    }
   ],
   "source": [
    "check = temp2 + temp1\n",
    "check"
   ]
  },
  {
   "cell_type": "code",
   "execution_count": 12,
   "id": "4a394824",
   "metadata": {},
   "outputs": [],
   "source": [
    "password = \"iRqy3U5qdgt\""
   ]
  }
 ],
 "metadata": {
  "kernelspec": {
   "display_name": "Python 3 (ipykernel)",
   "language": "python",
   "name": "python3"
  },
  "language_info": {
   "codemirror_mode": {
    "name": "ipython",
    "version": 3
   },
   "file_extension": ".py",
   "mimetype": "text/x-python",
   "name": "python",
   "nbconvert_exporter": "python",
   "pygments_lexer": "ipython3",
   "version": "3.9.7"
  }
 },
 "nbformat": 4,
 "nbformat_minor": 5
}
