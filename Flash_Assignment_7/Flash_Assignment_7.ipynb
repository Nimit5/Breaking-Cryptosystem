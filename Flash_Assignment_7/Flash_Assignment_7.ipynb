{
 "cells": [
  {
   "cell_type": "code",
   "execution_count": 1,
   "id": "f70f0afe",
   "metadata": {
    "execution": {
     "iopub.execute_input": "2022-04-22T07:18:42.738868Z",
     "iopub.status.busy": "2022-04-22T07:18:42.738079Z",
     "iopub.status.idle": "2022-04-22T07:18:42.751356Z",
     "shell.execute_reply": "2022-04-22T07:18:42.750481Z"
    },
    "papermill": {
     "duration": 0.030368,
     "end_time": "2022-04-22T07:18:42.753623",
     "exception": false,
     "start_time": "2022-04-22T07:18:42.723255",
     "status": "completed"
    },
    "tags": []
   },
   "outputs": [],
   "source": [
    "from tqdm import tqdm"
   ]
  },
  {
   "cell_type": "code",
   "execution_count": 2,
   "id": "439a6e47",
   "metadata": {
    "execution": {
     "iopub.execute_input": "2022-04-22T07:18:42.780776Z",
     "iopub.status.busy": "2022-04-22T07:18:42.780278Z",
     "iopub.status.idle": "2022-04-22T07:18:42.783795Z",
     "shell.execute_reply": "2022-04-22T07:18:42.783154Z"
    },
    "papermill": {
     "duration": 0.019435,
     "end_time": "2022-04-22T07:18:42.785472",
     "exception": false,
     "start_time": "2022-04-22T07:18:42.766037",
     "status": "completed"
    },
    "tags": []
   },
   "outputs": [],
   "source": [
    "from itertools import combinations_with_replacement"
   ]
  },
  {
   "cell_type": "code",
   "execution_count": 3,
   "id": "22fec587",
   "metadata": {
    "execution": {
     "iopub.execute_input": "2022-04-22T07:18:42.811550Z",
     "iopub.status.busy": "2022-04-22T07:18:42.810990Z",
     "iopub.status.idle": "2022-04-22T07:18:42.814971Z",
     "shell.execute_reply": "2022-04-22T07:18:42.814186Z"
    },
    "papermill": {
     "duration": 0.019372,
     "end_time": "2022-04-22T07:18:42.816842",
     "exception": false,
     "start_time": "2022-04-22T07:18:42.797470",
     "status": "completed"
    },
    "tags": []
   },
   "outputs": [],
   "source": [
    "asci=[i for i in range(ord('f'),ord('v'))]"
   ]
  },
  {
   "cell_type": "code",
   "execution_count": 4,
   "id": "82487b40",
   "metadata": {
    "execution": {
     "iopub.execute_input": "2022-04-22T07:18:42.842338Z",
     "iopub.status.busy": "2022-04-22T07:18:42.841799Z",
     "iopub.status.idle": "2022-04-22T07:18:42.847448Z",
     "shell.execute_reply": "2022-04-22T07:18:42.845970Z"
    },
    "papermill": {
     "duration": 0.020945,
     "end_time": "2022-04-22T07:18:42.849722",
     "exception": false,
     "start_time": "2022-04-22T07:18:42.828777",
     "status": "completed"
    },
    "tags": []
   },
   "outputs": [
    {
     "name": "stdout",
     "output_type": "stream",
     "text": [
      "Asci Values : [102, 103, 104, 105, 106, 107, 108, 109, 110, 111, 112, 113, 114, 115, 116, 117]\n"
     ]
    }
   ],
   "source": [
    "print(\"Asci Values :\",asci)"
   ]
  },
  {
   "cell_type": "code",
   "execution_count": 5,
   "id": "009f3dfe",
   "metadata": {
    "execution": {
     "iopub.execute_input": "2022-04-22T07:18:42.877236Z",
     "iopub.status.busy": "2022-04-22T07:18:42.876657Z",
     "iopub.status.idle": "2022-04-22T07:18:42.880232Z",
     "shell.execute_reply": "2022-04-22T07:18:42.879690Z"
    },
    "papermill": {
     "duration": 0.019394,
     "end_time": "2022-04-22T07:18:42.882040",
     "exception": false,
     "start_time": "2022-04-22T07:18:42.862646",
     "status": "completed"
    },
    "tags": []
   },
   "outputs": [],
   "source": [
    "combinations=combinations_with_replacement(asci,21)"
   ]
  },
  {
   "cell_type": "code",
   "execution_count": 6,
   "id": "b9219739",
   "metadata": {
    "execution": {
     "iopub.execute_input": "2022-04-22T07:18:42.908916Z",
     "iopub.status.busy": "2022-04-22T07:18:42.908385Z",
     "iopub.status.idle": "2022-04-22T07:18:42.912138Z",
     "shell.execute_reply": "2022-04-22T07:18:42.911299Z"
    },
    "papermill": {
     "duration": 0.019473,
     "end_time": "2022-04-22T07:18:42.914075",
     "exception": false,
     "start_time": "2022-04-22T07:18:42.894602",
     "status": "completed"
    },
    "tags": []
   },
   "outputs": [],
   "source": [
    "l=\"21 7 68 86 4 50 123 5 29 110 35 23 98 36 55 4 22 109 57 52 113 52 50 58 87 13 8 35 117 96 77 24\"\n",
    "l=l.split(' ')\n"
   ]
  },
  {
   "cell_type": "code",
   "execution_count": 7,
   "id": "c4e49858",
   "metadata": {
    "execution": {
     "iopub.execute_input": "2022-04-22T07:18:42.940486Z",
     "iopub.status.busy": "2022-04-22T07:18:42.939962Z",
     "iopub.status.idle": "2022-04-22T07:18:42.943496Z",
     "shell.execute_reply": "2022-04-22T07:18:42.942906Z"
    },
    "papermill": {
     "duration": 0.019188,
     "end_time": "2022-04-22T07:18:42.945497",
     "exception": false,
     "start_time": "2022-04-22T07:18:42.926309",
     "status": "completed"
    },
    "tags": []
   },
   "outputs": [],
   "source": [
    "arr=[int(i) for i in l]"
   ]
  },
  {
   "cell_type": "code",
   "execution_count": 8,
   "id": "283ff6af",
   "metadata": {
    "execution": {
     "iopub.execute_input": "2022-04-22T07:18:42.972175Z",
     "iopub.status.busy": "2022-04-22T07:18:42.971614Z",
     "iopub.status.idle": "2022-04-22T07:18:42.976178Z",
     "shell.execute_reply": "2022-04-22T07:18:42.975264Z"
    },
    "papermill": {
     "duration": 0.020462,
     "end_time": "2022-04-22T07:18:42.978297",
     "exception": false,
     "start_time": "2022-04-22T07:18:42.957835",
     "status": "completed"
    },
    "tags": []
   },
   "outputs": [
    {
     "name": "stdout",
     "output_type": "stream",
     "text": [
      "Given Hashed Values : [21, 7, 68, 86, 4, 50, 123, 5, 29, 110, 35, 23, 98, 36, 55, 4, 22, 109, 57, 52, 113, 52, 50, 58, 87, 13, 8, 35, 117, 96, 77, 24]\n"
     ]
    }
   ],
   "source": [
    "print(\"Given Hashed Values :\",arr)"
   ]
  },
  {
   "cell_type": "code",
   "execution_count": 9,
   "id": "316f9086",
   "metadata": {
    "execution": {
     "iopub.execute_input": "2022-04-22T07:18:43.005864Z",
     "iopub.status.busy": "2022-04-22T07:18:43.005153Z",
     "iopub.status.idle": "2022-04-22T07:18:43.009498Z",
     "shell.execute_reply": "2022-04-22T07:18:43.008754Z"
    },
    "papermill": {
     "duration": 0.020483,
     "end_time": "2022-04-22T07:18:43.011623",
     "exception": false,
     "start_time": "2022-04-22T07:18:42.991140",
     "status": "completed"
    },
    "tags": []
   },
   "outputs": [],
   "source": [
    "def func(x,i):\n",
    "    return pow(x,i,127)"
   ]
  },
  {
   "cell_type": "code",
   "execution_count": 10,
   "id": "2d842af6",
   "metadata": {
    "execution": {
     "iopub.execute_input": "2022-04-22T07:18:43.038756Z",
     "iopub.status.busy": "2022-04-22T07:18:43.038449Z",
     "iopub.status.idle": "2022-04-22T09:03:24.008788Z",
     "shell.execute_reply": "2022-04-22T09:03:24.007661Z"
    },
    "papermill": {
     "duration": 6280.987577,
     "end_time": "2022-04-22T09:03:24.011797",
     "exception": false,
     "start_time": "2022-04-22T07:18:43.024220",
     "status": "completed"
    },
    "tags": []
   },
   "outputs": [
    {
     "name": "stderr",
     "output_type": "stream",
     "text": [
      "5567902560it [1:44:40, 886474.89it/s] \n"
     ]
    }
   ],
   "source": [
    "possible_solutions=[x for x in tqdm(combinations) if (sum(x)%127==arr[1]) and (sum(map(func,x,[2]*21))%127==arr[2]) and (sum(map(func,x,[3]*21))%127==arr[3]) and (sum(map(func,x,[4]*21))%127==arr[4]) and (sum(map(func,x,[5]*21))%127==arr[5]) and (sum(map(func,x,[6]*21))%127==arr[6]) and (sum(map(func,x,[7]*21))%127==arr[7]) and (sum(map(func,x,[8]*21))%127==arr[8]) and (sum(map(func,x,[9]*21))%127==arr[9]) and (sum(map(func,x,[10]*21))%127==arr[10]) and (sum(map(func,x,[11]*21))%127==arr[11]) and (sum(map(func,x,[12]*21))%127==arr[12]) and (sum(map(func,x,[13]*21))%127==arr[13]) and (sum(map(func,x,[14]*21))%127==arr[14]) and (sum(map(func,x,[15]*21))%127==arr[15])]"
   ]
  },
  {
   "cell_type": "code",
   "execution_count": 11,
   "id": "7b9d2c9c",
   "metadata": {
    "execution": {
     "iopub.execute_input": "2022-04-22T09:04:07.174593Z",
     "iopub.status.busy": "2022-04-22T09:04:07.174311Z",
     "iopub.status.idle": "2022-04-22T09:04:07.183378Z",
     "shell.execute_reply": "2022-04-22T09:04:07.182172Z"
    },
    "papermill": {
     "duration": 21.652557,
     "end_time": "2022-04-22T09:04:07.186196",
     "exception": false,
     "start_time": "2022-04-22T09:03:45.533639",
     "status": "completed"
    },
    "tags": []
   },
   "outputs": [
    {
     "name": "stdout",
     "output_type": "stream",
     "text": [
      "Possible Passwords :\n",
      "1:fgghhiiikkmnopqrrstuu\n"
     ]
    }
   ],
   "source": [
    "print(\"Possible Passwords :\")\n",
    "for i in range(len(possible_solutions)):\n",
    "    s=\"\"\n",
    "    for j in possible_solutions[i]:\n",
    "        s=s+chr(j)\n",
    "    print(i+1,\":\",s,sep=\"\")"
   ]
  }
 ],
 "metadata": {
  "kernelspec": {
   "display_name": "Python 3 (ipykernel)",
   "language": "python",
   "name": "python3"
  },
  "language_info": {
   "codemirror_mode": {
    "name": "ipython",
    "version": 3
   },
   "file_extension": ".py",
   "mimetype": "text/x-python",
   "name": "python",
   "nbconvert_exporter": "python",
   "pygments_lexer": "ipython3",
   "version": "3.8.10"
  },
  "papermill": {
   "default_parameters": {},
   "duration": 6356.709485,
   "end_time": "2022-04-22T09:04:29.601078",
   "environment_variables": {},
   "exception": null,
   "input_path": "__notebook__.ipynb",
   "output_path": "__notebook__.ipynb",
   "parameters": {},
   "start_time": "2022-04-22T07:18:32.891593",
   "version": "2.3.4"
  }
 },
 "nbformat": 4,
 "nbformat_minor": 5
}
