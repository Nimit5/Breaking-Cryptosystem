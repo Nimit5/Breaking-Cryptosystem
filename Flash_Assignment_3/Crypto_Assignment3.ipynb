{
 "cells": [
  {
   "cell_type": "markdown",
   "id": "fcfd9157",
   "metadata": {},
   "source": [
    "# Implementation of Fermat's little theorem"
   ]
  },
  {
   "cell_type": "code",
   "execution_count": 76,
   "id": "e2855eae",
   "metadata": {},
   "outputs": [],
   "source": [
    "# Function to compute gcd of two number a and b\n",
    "\n",
    "def gcd(a,b):\n",
    "    if(b==0):\n",
    "        return a\n",
    "    else:\n",
    "        return gcd(b, a % b)"
   ]
  },
  {
   "cell_type": "code",
   "execution_count": 77,
   "id": "cd09915d",
   "metadata": {},
   "outputs": [],
   "source": [
    "# Function to compute x^y under modulo p\n",
    "\n",
    "def power_under_modulo(x,y,p):\n",
    "        if(y==0):\n",
    "             return 1\n",
    "        a=power_under_modulo(x,y//2,p)%p\n",
    "        a=(a*a)%p\n",
    "        if(y%2==0):\n",
    "            return a \n",
    "        else:\n",
    "            return (x*a)%p"
   ]
  },
  {
   "cell_type": "code",
   "execution_count": 78,
   "id": "ba61c7ca",
   "metadata": {},
   "outputs": [],
   "source": [
    "# Function to find modular inverse of a under modulo p\n",
    "\n",
    "def modInverse(a, p):\n",
    "    if(gcd(a,p)!= 1):\n",
    "        print(\"Inverse of\",a,\"doesn't exist !!\")\n",
    "    else:\n",
    "        q=power_under_modulo(a,p-2, p)\n",
    "        print(\"Modular multiplicative inverse of\",a,\"is :\",q)\n",
    "        return q"
   ]
  },
  {
   "cell_type": "code",
   "execution_count": 79,
   "id": "4d319433",
   "metadata": {},
   "outputs": [],
   "source": [
    "x1=431955503618234519808008749742\n",
    "x2=176325509039323911968355873643\n",
    "x3=98486971404861992487294722613\n",
    "p=455470209427676832372575348833"
   ]
  },
  {
   "cell_type": "code",
   "execution_count": 80,
   "id": "e9dc252c",
   "metadata": {},
   "outputs": [
    {
     "name": "stdout",
     "output_type": "stream",
     "text": [
      "Modular multiplicative inverse of 431955503618234519808008749742 is : 70749996790223471732904681640\n",
      "Modular multiplicative inverse of 176325509039323911968355873643 is : 228947149478752602606353685125\n"
     ]
    }
   ],
   "source": [
    "x1_inv=modInverse(x1,p)\n",
    "x2_inv=modInverse(x2,p)"
   ]
  },
  {
   "cell_type": "code",
   "execution_count": 81,
   "id": "b36712fe",
   "metadata": {},
   "outputs": [
    {
     "name": "stdout",
     "output_type": "stream",
     "text": [
      "g_1544 : 111590994894663139264552154672\n"
     ]
    }
   ],
   "source": [
    "g_1544=(x2*x1_inv)%p\n",
    "print(\"g_1544 :\",g_1544)"
   ]
  },
  {
   "cell_type": "code",
   "execution_count": 82,
   "id": "ba7cf4ad",
   "metadata": {},
   "outputs": [
    {
     "name": "stdout",
     "output_type": "stream",
     "text": [
      "g_7167 : 110411376670918912626907526185\n"
     ]
    }
   ],
   "source": [
    "g_7167=(x3*x1_inv)%p\n",
    "print(\"g_7167 :\",g_7167)"
   ]
  },
  {
   "cell_type": "code",
   "execution_count": 83,
   "id": "58b5ecfb",
   "metadata": {},
   "outputs": [
    {
     "name": "stdout",
     "output_type": "stream",
     "text": [
      "g_5623 : 420413074251022028027270785553\n"
     ]
    }
   ],
   "source": [
    "g_5623=(x3*x2_inv)%p\n",
    "print(\"g_5623 :\",g_5623)"
   ]
  },
  {
   "cell_type": "code",
   "execution_count": 84,
   "id": "5450a72a",
   "metadata": {},
   "outputs": [
    {
     "name": "stdout",
     "output_type": "stream",
     "text": [
      "Modular multiplicative inverse of 345360603273479854237016999125 is : 91965597756978601020734136503\n",
      "g_991 : 161798558270556961732424822635\n"
     ]
    }
   ],
   "source": [
    "g_991=(g_5623*modInverse(power_under_modulo(g_1544,3,p),p))%p\n",
    "print(\"g_991 :\",g_991)"
   ]
  },
  {
   "cell_type": "code",
   "execution_count": 85,
   "id": "81fa8953",
   "metadata": {},
   "outputs": [
    {
     "name": "stdout",
     "output_type": "stream",
     "text": [
      "Modular multiplicative inverse of 451843559037513147357303557556 is : 134589106329817715075127931282\n",
      "g_230 : 263509268584013168241508095725\n"
     ]
    }
   ],
   "source": [
    "g_230=(g_7167*modInverse(power_under_modulo(g_991,7,p),p))%p\n",
    "print(\"g_230 :\",g_230)"
   ]
  },
  {
   "cell_type": "code",
   "execution_count": 86,
   "id": "3ce78073",
   "metadata": {},
   "outputs": [
    {
     "name": "stdout",
     "output_type": "stream",
     "text": [
      "Modular multiplicative inverse of 19924990663363677195202251219 is : 352241323985827838133003768478\n",
      "g_164 : 365054265331735818534782577890\n"
     ]
    }
   ],
   "source": [
    "g_164=(g_1544*modInverse(power_under_modulo(g_230,6,p),p))%p\n",
    "print(\"g_164 :\",g_164)"
   ]
  },
  {
   "cell_type": "code",
   "execution_count": 87,
   "id": "0d6307b9",
   "metadata": {},
   "outputs": [
    {
     "name": "stdout",
     "output_type": "stream",
     "text": [
      "Modular multiplicative inverse of 398578713673488631801100643445 is : 295648931465326016233207835343\n",
      "g_7 : 296995893405083794209776051694\n"
     ]
    }
   ],
   "source": [
    "g_7=(g_991*modInverse(power_under_modulo(g_164,6,p),p))%p\n",
    "print(\"g_7 :\",g_7)"
   ]
  },
  {
   "cell_type": "code",
   "execution_count": 88,
   "id": "dd5a86e0",
   "metadata": {},
   "outputs": [
    {
     "name": "stdout",
     "output_type": "stream",
     "text": [
      "Modular multiplicative inverse of 30346203585171161030058390273 is : 294885701716839578613039931409\n",
      "g_6 : 313908172363422710658462184069\n"
     ]
    }
   ],
   "source": [
    "g_6=(g_230*modInverse(power_under_modulo(g_7,32,p),p))%p\n",
    "print(\"g_6 :\",g_6)"
   ]
  },
  {
   "cell_type": "code",
   "execution_count": 89,
   "id": "ad422456",
   "metadata": {},
   "outputs": [
    {
     "name": "stdout",
     "output_type": "stream",
     "text": [
      "Modular multiplicative inverse of 313908172363422710658462184069 is : 432364273095378037950448314617\n",
      "The value of g is : 52565085417963311027694339\n"
     ]
    }
   ],
   "source": [
    "g=(g_7*modInverse(g_6,p))%p\n",
    "print(\"The value of g is :\",g)"
   ]
  },
  {
   "cell_type": "code",
   "execution_count": 90,
   "id": "3f5a0e58",
   "metadata": {},
   "outputs": [
    {
     "name": "stdout",
     "output_type": "stream",
     "text": [
      "Modular multiplicative inverse of 190938394687872884891831361620 is : 442956820316148690889301696615\n",
      "The password is : 134721542097659029845273957\n"
     ]
    }
   ],
   "source": [
    "password=(x1*modInverse(power_under_modulo(g,429,p),p))%p\n",
    "print(\"The password is :\",password)"
   ]
  }
 ],
 "metadata": {
  "kernelspec": {
   "display_name": "Python 3 (ipykernel)",
   "language": "python",
   "name": "python3"
  },
  "language_info": {
   "codemirror_mode": {
    "name": "ipython",
    "version": 3
   },
   "file_extension": ".py",
   "mimetype": "text/x-python",
   "name": "python",
   "nbconvert_exporter": "python",
   "pygments_lexer": "ipython3",
   "version": "3.9.6"
  }
 },
 "nbformat": 4,
 "nbformat_minor": 5
}
