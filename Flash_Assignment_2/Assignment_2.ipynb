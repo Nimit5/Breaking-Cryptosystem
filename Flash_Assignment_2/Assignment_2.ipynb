{
 "cells": [
  {
   "cell_type": "code",
   "execution_count": 1,
   "id": "87e7c662",
   "metadata": {},
   "outputs": [
    {
     "name": "stdout",
     "output_type": "stream",
     "text": [
      "The decrypted message is :- CRYPTANALYSIS\n"
     ]
    }
   ],
   "source": [
    "morse_to_eng = {\n",
    "        '.-': 'A',\n",
    "         '-...': 'B',\n",
    "         '-.-.': 'C',\n",
    "         '-..': 'D',\n",
    "         '.': 'E',\n",
    "         '..-.': 'F',\n",
    "         '--.': 'G',\n",
    "         '....': 'H',\n",
    "         '..': 'I',\n",
    "         '.---': 'J',\n",
    "         '-.-': 'K',\n",
    "         '.-..': 'L',\n",
    "         '--': 'M',\n",
    "         '-.': 'N',\n",
    "         '---': 'O',\n",
    "         '.--.': 'P',\n",
    "         '--.-': 'Q',\n",
    "         '.-.': 'R',\n",
    "         '...': 'S',\n",
    "         '-': 'T',\n",
    "         '..-': 'U',\n",
    "         '...-': 'V',\n",
    "         '.--': 'W',\n",
    "         '-..-': 'X',\n",
    "         '-.--': 'Y',\n",
    "         '--..': 'Z',\n",
    "         '/': ' ',\n",
    "         '.----': '1',\n",
    "         '..---': '2',\n",
    "         '...--': '3',\n",
    "         '....-': '4',\n",
    "         '.....': '5',\n",
    "         '-....': '6',\n",
    "         '--...': '7',\n",
    "         '---..': '8',\n",
    "         '----.': '9',\n",
    "         '-----': '0',\n",
    "         '.-.-.-': '.',\n",
    "         '--..--': ',',\n",
    "         '---...': ':',\n",
    "         '..--..': '?',\n",
    "         '.----.': \"'\",\n",
    "         '-....-': '-',\n",
    "         '-..-.': '/',\n",
    "         '.--.-.': '@',\n",
    "         '-...-': '='\n",
    "        }\n",
    "\n",
    "\n",
    "morse_code = \"-.-. .-. -.-- .--. - .- -. .- .-.. -.-- ... .. ...\"\n",
    "\n",
    "temp = morse_code.split(' ')\n",
    "decrypted_message = ''\n",
    "\n",
    "for c in temp:\n",
    "    decrypted_message += morse_to_eng[c]       \n",
    "    \n",
    "print(\"The decrypted message is :-\",decrypted_message)\n"
   ]
  },
  {
   "cell_type": "code",
   "execution_count": null,
   "id": "7900c105",
   "metadata": {},
   "outputs": [],
   "source": []
  }
 ],
 "metadata": {
  "kernelspec": {
   "display_name": "Python 3 (ipykernel)",
   "language": "python",
   "name": "python3"
  },
  "language_info": {
   "codemirror_mode": {
    "name": "ipython",
    "version": 3
   },
   "file_extension": ".py",
   "mimetype": "text/x-python",
   "name": "python",
   "nbconvert_exporter": "python",
   "pygments_lexer": "ipython3",
   "version": "3.8.10"
  }
 },
 "nbformat": 4,
 "nbformat_minor": 5
}
